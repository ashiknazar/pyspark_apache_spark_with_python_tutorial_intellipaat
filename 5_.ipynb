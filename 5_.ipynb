{
 "cells": [
  {
   "cell_type": "markdown",
   "metadata": {},
   "source": [
    "## spark sql\n",
    "- distributed framework for structured data processing\n",
    "- using spark sql ,spark gets more information about the structure of data and computation\n",
    "- with this information ,spark can perform extra optimization.it uses same execution engine while computing an output. "
   ]
  }
 ],
 "metadata": {
  "language_info": {
   "name": "python"
  }
 },
 "nbformat": 4,
 "nbformat_minor": 2
}
