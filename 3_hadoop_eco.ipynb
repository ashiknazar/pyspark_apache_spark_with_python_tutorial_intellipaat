{
 "cells": [
  {
   "cell_type": "markdown",
   "metadata": {},
   "source": [
    "![](images/hadoop_eco.png)"
   ]
  },
  {
   "cell_type": "markdown",
   "metadata": {},
   "source": [
    "- HDFS\n",
    "   - HDFS Is a storage system which runs on java programming language  and used as a primary storage device in hadoop applications\n",
    "   - HDFS consist of 2 components ,NameNode and DataNode\n",
    "   - to store data across multiple nodes on the hadoop cluster "
   ]
  },
  {
   "cell_type": "markdown",
   "metadata": {},
   "source": [
    "- MapReduce\n",
    "    - Map function : convert one set data into another.individual elements are btoken into tuples(key value pair)\n",
    "    - Reduce function: it takes data from the map function as input .reduce function aggregates and summarize the result produced by map function.\n"
   ]
  },
  {
   "cell_type": "markdown",
   "metadata": {},
   "source": [
    "- mapReduce acts as core component in hadoop system,as it facilitates parallel processing\n",
    "   "
   ]
  },
  {
   "cell_type": "markdown",
   "metadata": {},
   "source": [
    "- YARN\n",
    "  -  supports a variety of processing engines and applications\n",
    "  - seperates its dupties across multiple components\n",
    "  - dynamically allocates pools of resources to other applications on the go.\n",
    "  - yarn supports multiple scheduling methods based on the queue format for submitting processing jobs\n",
    "  - the default scheduler works on fifo"
   ]
  },
  {
   "cell_type": "markdown",
   "metadata": {},
   "source": [
    "### hadoop\n",
    "- flexibility(structured and unstructured data)\n",
    "- scalability\n",
    "- fault tolerance\n",
    "- rapid data processing and low cost (not considering spark )\n",
    "\n"
   ]
  },
  {
   "cell_type": "markdown",
   "metadata": {},
   "source": [
    "- low efficiency when process\n",
    "   - low latency data access\n",
    "   - not recommended for small files\n",
    "   - cannot handle multiple data modification effeciently"
   ]
  },
  {
   "cell_type": "markdown",
   "metadata": {},
   "source": []
  }
 ],
 "metadata": {
  "language_info": {
   "name": "python"
  }
 },
 "nbformat": 4,
 "nbformat_minor": 2
}
